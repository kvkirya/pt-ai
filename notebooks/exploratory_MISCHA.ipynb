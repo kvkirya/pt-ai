{
 "cells": [
  {
   "cell_type": "markdown",
   "metadata": {},
   "source": [
    "# Exploratory Notebook for bits & bobs"
   ]
  },
  {
   "cell_type": "code",
   "execution_count": 6,
   "metadata": {},
   "outputs": [],
   "source": [
    "# Standard imports\n",
    "\n",
    "import numpy as np\n",
    "import pandas as pd\n",
    "import json\n",
    "import os\n",
    "\n",
    "import matplotlib.pyplot as plt\n",
    "import seaborn as snsb\n"
   ]
  },
  {
   "cell_type": "markdown",
   "metadata": {},
   "source": [
    "## Intersection over Union"
   ]
  },
  {
   "cell_type": "code",
   "execution_count": 79,
   "metadata": {},
   "outputs": [],
   "source": [
    "def return_IoU(box1, box2):\n",
    "\n",
    "    \"\"\"Function to generate the IoU for two bounding boxes in COCO format\n",
    "\n",
    "    box1: list of floats representing bounding box (COCO format)\n",
    "    box2: list of floats representing bounding box (COCO format)\n",
    "    \"\"\"\n",
    "\n",
    "    # Convert from COCO format to corner format, this makes it simpler to calculate IoU\n",
    "    box1 = [box1[0], box1[1], box1[0] + box1[2], box1[1] + box1[3]]\n",
    "    box2 = [box2[0], box2[1], box2[0] + box2[2], box2[1] + box2[3]]\n",
    "\n",
    "    # Calculate intersection coordinates\n",
    "    x_left = max(box1[0], box2[0])\n",
    "    y_top = max(box1[1], box2[1])\n",
    "    x_right = min(box1[2], box2[2])\n",
    "    y_bottom = min(box1[3], box2[3])\n",
    "\n",
    "    # Check if there is no overlap\n",
    "    if x_right < x_left or y_bottom < y_top:\n",
    "        return 0.0\n",
    "\n",
    "    # Calculate intersection area\n",
    "    intersection_area = (x_right - x_left) * (y_bottom - y_top)\n",
    "\n",
    "    # Calculate union area\n",
    "    box1_area = (box1[2] - box1[0]) * (box1[3] - box1[1])\n",
    "    box2_area = (box2[2] - box2[0]) * (box2[3] - box2[1])\n",
    "    union_area = box1_area + box2_area - intersection_area\n",
    "\n",
    "    # Calculate IoU\n",
    "    iou = intersection_area / union_area\n",
    "\n",
    "    return iou\n"
   ]
  },
  {
   "cell_type": "code",
   "execution_count": 73,
   "metadata": {},
   "outputs": [],
   "source": [
    "# Get data path\n",
    "\n",
    "currend_wd = os.getcwd()\n",
    "target_file = \"annotations.json\"\n",
    "\n",
    "annotations_json = os.path.join(currend_wd, '..', 'raw_data', target_file)\n",
    "\n",
    "# Load json file\n",
    "\n",
    "with open(annotations_json, 'r') as file:\n",
    "    data = json.load(file)\n"
   ]
  },
  {
   "cell_type": "code",
   "execution_count": 74,
   "metadata": {},
   "outputs": [
    {
     "data": {
      "text/plain": [
       "dict_keys(['images', 'annotations', 'info', 'licenses', 'categories'])"
      ]
     },
     "execution_count": 74,
     "metadata": {},
     "output_type": "execute_result"
    }
   ],
   "source": [
    "data.keys()\n"
   ]
  },
  {
   "cell_type": "code",
   "execution_count": 75,
   "metadata": {},
   "outputs": [
    {
     "data": {
      "text/plain": [
       "([439.01, 187.01, 56.98000000000002, 53.98000000000002],\n",
       " [142.01, 185.01, 51.98000000000002, 54.98000000000002])"
      ]
     },
     "execution_count": 75,
     "metadata": {},
     "output_type": "execute_result"
    }
   ],
   "source": [
    "subset_annotations = data['annotations'][:5]\n",
    "test_bbox_0 = subset_annotations[0]['bbox']\n",
    "test_bbox_1 = subset_annotations[1]['bbox']\n",
    "test_bbox_2 = subset_annotations[2]['bbox']\n",
    "\n",
    "\n",
    "test_bbox_0, test_bbox_1\n"
   ]
  },
  {
   "cell_type": "code",
   "execution_count": 80,
   "metadata": {},
   "outputs": [
    {
     "data": {
      "text/plain": [
       "0.0"
      ]
     },
     "metadata": {},
     "output_type": "display_data"
    }
   ],
   "source": [
    "display(return_IoU(test_bbox_0, test_bbox_1))\n",
    "\n",
    "# display(return_IoU(test_bbox_0, test_bbox_2))\n",
    "\n",
    "# display(return_IoU(test_bbox_1, test_bbox_2))\n"
   ]
  }
 ],
 "metadata": {
  "kernelspec": {
   "display_name": "pt-ai",
   "language": "python",
   "name": "python3"
  },
  "language_info": {
   "codemirror_mode": {
    "name": "ipython",
    "version": 3
   },
   "file_extension": ".py",
   "mimetype": "text/x-python",
   "name": "python",
   "nbconvert_exporter": "python",
   "pygments_lexer": "ipython3",
   "version": "3.10.6"
  }
 },
 "nbformat": 4,
 "nbformat_minor": 2
}
