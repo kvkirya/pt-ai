{
 "cells": [
  {
   "cell_type": "markdown",
   "metadata": {},
   "source": [
    "# Exploratory Notebook for bits & bobs"
   ]
  },
  {
   "cell_type": "code",
   "execution_count": 1,
   "metadata": {},
   "outputs": [],
   "source": [
    "# Standard imports\n",
    "\n",
    "import numpy as np\n",
    "import pandas as pd\n",
    "import json\n",
    "import os\n",
    "\n",
    "import matplotlib.pyplot as plt\n",
    "import seaborn as snsb\n"
   ]
  },
  {
   "cell_type": "markdown",
   "metadata": {},
   "source": [
    "## Intersection over Union"
   ]
  },
  {
   "cell_type": "code",
   "execution_count": 2,
   "metadata": {},
   "outputs": [],
   "source": [
    "def return_IoU(box1, box2):\n",
    "\n",
    "    \"\"\"Function to generate the IoU for two bounding boxes in COCO format\n",
    "\n",
    "    box1: list of floats representing bounding box (COCO format)\n",
    "    box2: list of floats representing bounding box (COCO format)\n",
    "    \"\"\"\n",
    "\n",
    "    # Convert from COCO format to corner format, this makes it simpler to calculate IoU\n",
    "    box1 = [box1[0], box1[1], box1[0] + box1[2], box1[1] + box1[3]]\n",
    "    box2 = [box2[0], box2[1], box2[0] + box2[2], box2[1] + box2[3]]\n",
    "\n",
    "    # Calculate intersection coordinates\n",
    "    x_left = max(box1[0], box2[0])\n",
    "    y_top = max(box1[1], box2[1])\n",
    "    x_right = min(box1[2], box2[2])\n",
    "    y_bottom = min(box1[3], box2[3])\n",
    "\n",
    "    # Check if there is no overlap\n",
    "    if x_right < x_left or y_bottom < y_top:\n",
    "        return 0.0\n",
    "\n",
    "    # Calculate intersection area\n",
    "    intersection_area = (x_right - x_left) * (y_bottom - y_top)\n",
    "\n",
    "    # Calculate union area\n",
    "    box1_area = (box1[2] - box1[0]) * (box1[3] - box1[1])\n",
    "    box2_area = (box2[2] - box2[0]) * (box2[3] - box2[1])\n",
    "    union_area = box1_area + box2_area - intersection_area\n",
    "\n",
    "    # Calculate IoU\n",
    "    iou = intersection_area / union_area\n",
    "\n",
    "    return iou\n"
   ]
  },
  {
   "cell_type": "code",
   "execution_count": 35,
   "metadata": {},
   "outputs": [],
   "source": [
    "# Get data path\n",
    "\n",
    "currend_wd = os.getcwd()\n",
    "target_file = \"annotations.json\"\n",
    "\n",
    "raw_data_path = os.path.join(currend_wd, '..', 'raw_data')\n",
    "\n",
    "# Load json file\n",
    "\n",
    "with open(os.path.join(raw_data_path, target_file), 'r') as file:\n",
    "    data = json.load(file)\n"
   ]
  },
  {
   "cell_type": "code",
   "execution_count": 4,
   "metadata": {},
   "outputs": [
    {
     "data": {
      "text/plain": [
       "dict_keys(['images', 'annotations', 'info', 'licenses', 'categories'])"
      ]
     },
     "execution_count": 4,
     "metadata": {},
     "output_type": "execute_result"
    }
   ],
   "source": [
    "data.keys()\n"
   ]
  },
  {
   "cell_type": "code",
   "execution_count": 75,
   "metadata": {},
   "outputs": [
    {
     "data": {
      "text/plain": [
       "([439.01, 187.01, 56.98000000000002, 53.98000000000002],\n",
       " [142.01, 185.01, 51.98000000000002, 54.98000000000002])"
      ]
     },
     "execution_count": 75,
     "metadata": {},
     "output_type": "execute_result"
    }
   ],
   "source": [
    "subset_annotations = data['annotations'][:5]\n",
    "test_bbox_0 = subset_annotations[0]['bbox']\n",
    "test_bbox_1 = subset_annotations[1]['bbox']\n",
    "test_bbox_2 = subset_annotations[2]['bbox']\n",
    "\n",
    "\n",
    "test_bbox_0, test_bbox_1\n"
   ]
  },
  {
   "cell_type": "code",
   "execution_count": 80,
   "metadata": {},
   "outputs": [
    {
     "data": {
      "text/plain": [
       "0.0"
      ]
     },
     "metadata": {},
     "output_type": "display_data"
    }
   ],
   "source": [
    "display(return_IoU(test_bbox_0, test_bbox_1))\n",
    "# display(return_IoU(test_bbox_0, test_bbox_2))\n",
    "# display(return_IoU(test_bbox_1, test_bbox_2))\n"
   ]
  },
  {
   "cell_type": "code",
   "execution_count": 28,
   "metadata": {},
   "outputs": [
    {
     "data": {
      "text/plain": [
       "dict_keys(['category_id', 'image_id', 'id', 'iscrowd', 'color', 'area', 'segmentation', 'bbox', 'num_keypoints', 'keypoints', 'keypoints_3d', 'pose_variation', 'pose_category', 'exercise_category', 'cuboid_points', 'zaxis_rotation_deg', 'attire_top', 'attire_bottom', 'presenting_gender', 'waist_circumference', 'height', 'betas'])"
      ]
     },
     "execution_count": 28,
     "metadata": {},
     "output_type": "execute_result"
    }
   ],
   "source": [
    "data['annotations'][0].keys()\n"
   ]
  },
  {
   "cell_type": "code",
   "execution_count": null,
   "metadata": {},
   "outputs": [],
   "source": [
    "for annotation in annotations:\n",
    "\n",
    "    annotation['iou']\n"
   ]
  },
  {
   "cell_type": "code",
   "execution_count": 34,
   "metadata": {},
   "outputs": [],
   "source": [
    "keys_to_keep = ['image_id', 'category_id', 'id', 'bbox', 'pose_cateogory'\n",
    "                , 'pose_variation', 'exercise_category', 'intersection_over_union']\n",
    "\n",
    "annotations_cleaned = [\n",
    "    {key: value for key, value in annotation.items() if key in keys_to_keep}\n",
    "    for annotation in data['annotations']\n",
    "]\n",
    "\n",
    "# Specify your filename\n",
    "target_save_file = 'annotations_cleaned.json'\n",
    "\n",
    "# Writing to a file in the same directory\n",
    "with open(os.path.join(raw_data_path,target_save_file), 'w') as file:\n",
    "    json.dump(annotations_cleaned, file)\n",
    "\n",
    "# Specify your filename\n",
    "subset_filename = 'annotations_mini.json'\n"
   ]
  },
  {
   "cell_type": "code",
   "execution_count": 36,
   "metadata": {},
   "outputs": [],
   "source": [
    "\n",
    "# Writing to a file in the same directory\n",
    "with open(os.path.join(raw_data_path,subset_filename), 'w') as file:\n",
    "    json.dump(annotations_cleaned[:20], file)\n"
   ]
  },
  {
   "cell_type": "code",
   "execution_count": 37,
   "metadata": {},
   "outputs": [
    {
     "data": {
      "text/plain": [
       "[{'category_id': 0,\n",
       "  'image_id': 1,\n",
       "  'id': 1,\n",
       "  'bbox': [439.01, 187.01, 56.98000000000002, 53.98000000000002],\n",
       "  'pose_variation': 'situp',\n",
       "  'exercise_category': ['HIIT']},\n",
       " {'category_id': 0,\n",
       "  'image_id': 1,\n",
       "  'id': 2,\n",
       "  'bbox': [142.01, 185.01, 51.98000000000002, 54.98000000000002],\n",
       "  'pose_variation': 'situp',\n",
       "  'exercise_category': ['HIIT']},\n",
       " {'category_id': 0,\n",
       "  'image_id': 1,\n",
       "  'id': 3,\n",
       "  'bbox': [302.01, 97.01, 38.98000000000002, 161.98000000000002],\n",
       "  'pose_variation': 'tree_right',\n",
       "  'exercise_category': ['Yoga']},\n",
       " {'category_id': 0,\n",
       "  'image_id': 2,\n",
       "  'id': 4,\n",
       "  'bbox': [477.01, 113.01, 110.98000000000002, 91.98],\n",
       "  'pose_variation': 'sideplank_right',\n",
       "  'exercise_category': ['Yoga', 'HIIT']},\n",
       " {'category_id': 0,\n",
       "  'image_id': 2,\n",
       "  'id': 5,\n",
       "  'bbox': [506.01, 99.01, 97.98000000000002, 239.98000000000002],\n",
       "  'pose_variation': 'curls_right',\n",
       "  'exercise_category': ['HIIT']},\n",
       " {'category_id': 0,\n",
       "  'image_id': 2,\n",
       "  'id': 6,\n",
       "  'bbox': [56.01, 118.01, 44.98, 67.98],\n",
       "  'pose_variation': 'updog',\n",
       "  'exercise_category': ['Yoga']},\n",
       " {'category_id': 0,\n",
       "  'image_id': 2,\n",
       "  'id': 7,\n",
       "  'bbox': [97.01, 244.01, 129.98000000000002, 129.98000000000002],\n",
       "  'pose_variation': 'situp',\n",
       "  'exercise_category': ['HIIT']},\n",
       " {'category_id': 0,\n",
       "  'image_id': 3,\n",
       "  'id': 8,\n",
       "  'bbox': [237.01, 96.01, 34.98000000000002, 90.98],\n",
       "  'pose_variation': 'squats',\n",
       "  'exercise_category': ['Yoga', 'HIIT']},\n",
       " {'category_id': 0,\n",
       "  'image_id': 3,\n",
       "  'id': 9,\n",
       "  'bbox': [484.01, 14.01, 112.98000000000002, 376.98],\n",
       "  'pose_variation': 'tree_right',\n",
       "  'exercise_category': ['Yoga']},\n",
       " {'category_id': 0,\n",
       "  'image_id': 4,\n",
       "  'id': 10,\n",
       "  'bbox': [436.01, 144.01, 96.98000000000002, 62.98000000000002],\n",
       "  'pose_variation': 'legraise',\n",
       "  'exercise_category': ['HIIT']},\n",
       " {'category_id': 0,\n",
       "  'image_id': 4,\n",
       "  'id': 11,\n",
       "  'bbox': [0, 246.01, 146.98000000000002, 71.98000000000002],\n",
       "  'pose_variation': 'pushups',\n",
       "  'exercise_category': ['HIIT']},\n",
       " {'category_id': 0,\n",
       "  'image_id': 5,\n",
       "  'id': 12,\n",
       "  'bbox': [0, 48.01, 107.97999999999999, 299.98],\n",
       "  'pose_variation': 'tree_right',\n",
       "  'exercise_category': ['Yoga']},\n",
       " {'category_id': 0,\n",
       "  'image_id': 5,\n",
       "  'id': 13,\n",
       "  'bbox': [408.01, 161.01, 87.98000000000002, 111.98000000000002],\n",
       "  'pose_variation': 'situp',\n",
       "  'exercise_category': ['HIIT']},\n",
       " {'category_id': 0,\n",
       "  'image_id': 5,\n",
       "  'id': 14,\n",
       "  'bbox': [324.01, 122.01, 59.98000000000002, 70.98],\n",
       "  'pose_variation': 'updog',\n",
       "  'exercise_category': ['Yoga']},\n",
       " {'category_id': 0,\n",
       "  'image_id': 6,\n",
       "  'id': 15,\n",
       "  'bbox': [74.01, 176.01, 75.98, 98.98000000000002],\n",
       "  'pose_variation': 'downdog',\n",
       "  'exercise_category': ['Yoga']},\n",
       " {'category_id': 0,\n",
       "  'image_id': 6,\n",
       "  'id': 16,\n",
       "  'bbox': [440.01, 163.01, 87.98000000000002, 63.98000000000002],\n",
       "  'pose_variation': 'boatpose',\n",
       "  'exercise_category': ['Yoga', 'HIIT']},\n",
       " {'category_id': 0,\n",
       "  'image_id': 7,\n",
       "  'id': 17,\n",
       "  'bbox': [323.01, 180.01, 61.98000000000002, 50.98000000000002],\n",
       "  'pose_variation': 'downdog',\n",
       "  'exercise_category': ['Yoga']},\n",
       " {'category_id': 0,\n",
       "  'image_id': 7,\n",
       "  'id': 18,\n",
       "  'bbox': [251.01, 202.01, 68.98000000000002, 69.98000000000002],\n",
       "  'pose_variation': 'situp',\n",
       "  'exercise_category': ['HIIT']},\n",
       " {'category_id': 0,\n",
       "  'image_id': 8,\n",
       "  'id': 19,\n",
       "  'bbox': [300.01, 160.01, 32.98000000000002, 80.98000000000002],\n",
       "  'pose_variation': 'squats',\n",
       "  'exercise_category': ['Yoga', 'HIIT']},\n",
       " {'category_id': 0,\n",
       "  'image_id': 9,\n",
       "  'id': 20,\n",
       "  'bbox': [460.01, 169.01, 99.98000000000002, 45.98000000000002],\n",
       "  'pose_variation': 'plank',\n",
       "  'exercise_category': ['Yoga', 'HIIT']}]"
      ]
     },
     "execution_count": 37,
     "metadata": {},
     "output_type": "execute_result"
    }
   ],
   "source": [
    "annotations_cleaned_mini = annotations_cleaned[:20]\n",
    "\n",
    "annotations_cleaned_mini\n"
   ]
  }
 ],
 "metadata": {
  "kernelspec": {
   "display_name": "pt-ai",
   "language": "python",
   "name": "python3"
  },
  "language_info": {
   "codemirror_mode": {
    "name": "ipython",
    "version": 3
   },
   "file_extension": ".py",
   "mimetype": "text/x-python",
   "name": "python",
   "nbconvert_exporter": "python",
   "pygments_lexer": "ipython3",
   "version": "3.10.6"
  }
 },
 "nbformat": 4,
 "nbformat_minor": 2
}
